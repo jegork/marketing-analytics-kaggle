{
  "nbformat": 4,
  "nbformat_minor": 0,
  "metadata": {
    "colab": {
      "name": "Section1.ipynb",
      "provenance": [],
      "collapsed_sections": [],
      "toc_visible": true
    },
    "kernelspec": {
      "name": "python3",
      "display_name": "Python 3"
    }
  },
  "cells": [
    {
      "cell_type": "markdown",
      "metadata": {
        "id": "G9io4-Y59GYl"
      },
      "source": [
        "For this notebook I will be using Google Colab and Google Drive. Also, as a sidenote, this is my first time analysing data and I am still a student, so I would like to ask for some feedback and any suggestions would be helpful!"
      ]
    },
    {
      "cell_type": "code",
      "metadata": {
        "id": "yt5MzdcXRvvC"
      },
      "source": [
        "import pandas as pd\n",
        "import re\n",
        "import numpy as np\n",
        "import matplotlib.pyplot as plt\n",
        "import seaborn as sns\n",
        "from scipy import stats\n",
        "from sklearn import preprocessing\n"
      ],
      "execution_count": 303,
      "outputs": []
    },
    {
      "cell_type": "code",
      "metadata": {
        "colab": {
          "base_uri": "https://localhost:8080/"
        },
        "id": "92Gr3brNO_m8",
        "outputId": "38f6d768-6a39-432f-a911-d898d0f4a302"
      },
      "source": [
        "from google.colab import drive\n",
        "drive.mount('/content/drive')"
      ],
      "execution_count": 304,
      "outputs": [
        {
          "output_type": "stream",
          "text": [
            "Drive already mounted at /content/drive; to attempt to forcibly remount, call drive.mount(\"/content/drive\", force_remount=True).\n"
          ],
          "name": "stdout"
        }
      ]
    },
    {
      "cell_type": "markdown",
      "metadata": {
        "id": "Xdji9874qLi-"
      },
      "source": [
        "# **Data loading**"
      ]
    },
    {
      "cell_type": "markdown",
      "metadata": {
        "id": "keIL_S8kzjZ3"
      },
      "source": [
        "Load the dataset from Google Drive and briefly inspect it"
      ]
    },
    {
      "cell_type": "code",
      "metadata": {
        "id": "zOZKk2GoPnIR"
      },
      "source": [
        "data = pd.read_csv(\"/content/drive/MyDrive/marketing_data.csv\")"
      ],
      "execution_count": 305,
      "outputs": []
    },
    {
      "cell_type": "code",
      "metadata": {
        "colab": {
          "base_uri": "https://localhost:8080/",
          "height": 383
        },
        "id": "kG-FnzjZ3Tg-",
        "outputId": "8cdf3ab7-73bd-4ac0-aa87-95db5fec7146"
      },
      "source": [
        "data.head(10)"
      ],
      "execution_count": 306,
      "outputs": [
        {
          "output_type": "execute_result",
          "data": {
            "text/html": [
              "<div>\n",
              "<style scoped>\n",
              "    .dataframe tbody tr th:only-of-type {\n",
              "        vertical-align: middle;\n",
              "    }\n",
              "\n",
              "    .dataframe tbody tr th {\n",
              "        vertical-align: top;\n",
              "    }\n",
              "\n",
              "    .dataframe thead th {\n",
              "        text-align: right;\n",
              "    }\n",
              "</style>\n",
              "<table border=\"1\" class=\"dataframe\">\n",
              "  <thead>\n",
              "    <tr style=\"text-align: right;\">\n",
              "      <th></th>\n",
              "      <th>ID</th>\n",
              "      <th>Year_Birth</th>\n",
              "      <th>Education</th>\n",
              "      <th>Marital_Status</th>\n",
              "      <th>Income</th>\n",
              "      <th>Kidhome</th>\n",
              "      <th>Teenhome</th>\n",
              "      <th>Dt_Customer</th>\n",
              "      <th>Recency</th>\n",
              "      <th>MntWines</th>\n",
              "      <th>MntFruits</th>\n",
              "      <th>MntMeatProducts</th>\n",
              "      <th>MntFishProducts</th>\n",
              "      <th>MntSweetProducts</th>\n",
              "      <th>MntGoldProds</th>\n",
              "      <th>NumDealsPurchases</th>\n",
              "      <th>NumWebPurchases</th>\n",
              "      <th>NumCatalogPurchases</th>\n",
              "      <th>NumStorePurchases</th>\n",
              "      <th>NumWebVisitsMonth</th>\n",
              "      <th>AcceptedCmp3</th>\n",
              "      <th>AcceptedCmp4</th>\n",
              "      <th>AcceptedCmp5</th>\n",
              "      <th>AcceptedCmp1</th>\n",
              "      <th>AcceptedCmp2</th>\n",
              "      <th>Response</th>\n",
              "      <th>Complain</th>\n",
              "      <th>Country</th>\n",
              "    </tr>\n",
              "  </thead>\n",
              "  <tbody>\n",
              "    <tr>\n",
              "      <th>0</th>\n",
              "      <td>1826</td>\n",
              "      <td>1970</td>\n",
              "      <td>Graduation</td>\n",
              "      <td>Divorced</td>\n",
              "      <td>$84,835.00</td>\n",
              "      <td>0</td>\n",
              "      <td>0</td>\n",
              "      <td>6/16/14</td>\n",
              "      <td>0</td>\n",
              "      <td>189</td>\n",
              "      <td>104</td>\n",
              "      <td>379</td>\n",
              "      <td>111</td>\n",
              "      <td>189</td>\n",
              "      <td>218</td>\n",
              "      <td>1</td>\n",
              "      <td>4</td>\n",
              "      <td>4</td>\n",
              "      <td>6</td>\n",
              "      <td>1</td>\n",
              "      <td>0</td>\n",
              "      <td>0</td>\n",
              "      <td>0</td>\n",
              "      <td>0</td>\n",
              "      <td>0</td>\n",
              "      <td>1</td>\n",
              "      <td>0</td>\n",
              "      <td>SP</td>\n",
              "    </tr>\n",
              "    <tr>\n",
              "      <th>1</th>\n",
              "      <td>1</td>\n",
              "      <td>1961</td>\n",
              "      <td>Graduation</td>\n",
              "      <td>Single</td>\n",
              "      <td>$57,091.00</td>\n",
              "      <td>0</td>\n",
              "      <td>0</td>\n",
              "      <td>6/15/14</td>\n",
              "      <td>0</td>\n",
              "      <td>464</td>\n",
              "      <td>5</td>\n",
              "      <td>64</td>\n",
              "      <td>7</td>\n",
              "      <td>0</td>\n",
              "      <td>37</td>\n",
              "      <td>1</td>\n",
              "      <td>7</td>\n",
              "      <td>3</td>\n",
              "      <td>7</td>\n",
              "      <td>5</td>\n",
              "      <td>0</td>\n",
              "      <td>0</td>\n",
              "      <td>0</td>\n",
              "      <td>0</td>\n",
              "      <td>1</td>\n",
              "      <td>1</td>\n",
              "      <td>0</td>\n",
              "      <td>CA</td>\n",
              "    </tr>\n",
              "    <tr>\n",
              "      <th>2</th>\n",
              "      <td>10476</td>\n",
              "      <td>1958</td>\n",
              "      <td>Graduation</td>\n",
              "      <td>Married</td>\n",
              "      <td>$67,267.00</td>\n",
              "      <td>0</td>\n",
              "      <td>1</td>\n",
              "      <td>5/13/14</td>\n",
              "      <td>0</td>\n",
              "      <td>134</td>\n",
              "      <td>11</td>\n",
              "      <td>59</td>\n",
              "      <td>15</td>\n",
              "      <td>2</td>\n",
              "      <td>30</td>\n",
              "      <td>1</td>\n",
              "      <td>3</td>\n",
              "      <td>2</td>\n",
              "      <td>5</td>\n",
              "      <td>2</td>\n",
              "      <td>0</td>\n",
              "      <td>0</td>\n",
              "      <td>0</td>\n",
              "      <td>0</td>\n",
              "      <td>0</td>\n",
              "      <td>0</td>\n",
              "      <td>0</td>\n",
              "      <td>US</td>\n",
              "    </tr>\n",
              "    <tr>\n",
              "      <th>3</th>\n",
              "      <td>1386</td>\n",
              "      <td>1967</td>\n",
              "      <td>Graduation</td>\n",
              "      <td>Together</td>\n",
              "      <td>$32,474.00</td>\n",
              "      <td>1</td>\n",
              "      <td>1</td>\n",
              "      <td>5/11/14</td>\n",
              "      <td>0</td>\n",
              "      <td>10</td>\n",
              "      <td>0</td>\n",
              "      <td>1</td>\n",
              "      <td>0</td>\n",
              "      <td>0</td>\n",
              "      <td>0</td>\n",
              "      <td>1</td>\n",
              "      <td>1</td>\n",
              "      <td>0</td>\n",
              "      <td>2</td>\n",
              "      <td>7</td>\n",
              "      <td>0</td>\n",
              "      <td>0</td>\n",
              "      <td>0</td>\n",
              "      <td>0</td>\n",
              "      <td>0</td>\n",
              "      <td>0</td>\n",
              "      <td>0</td>\n",
              "      <td>AUS</td>\n",
              "    </tr>\n",
              "    <tr>\n",
              "      <th>4</th>\n",
              "      <td>5371</td>\n",
              "      <td>1989</td>\n",
              "      <td>Graduation</td>\n",
              "      <td>Single</td>\n",
              "      <td>$21,474.00</td>\n",
              "      <td>1</td>\n",
              "      <td>0</td>\n",
              "      <td>4/8/14</td>\n",
              "      <td>0</td>\n",
              "      <td>6</td>\n",
              "      <td>16</td>\n",
              "      <td>24</td>\n",
              "      <td>11</td>\n",
              "      <td>0</td>\n",
              "      <td>34</td>\n",
              "      <td>2</td>\n",
              "      <td>3</td>\n",
              "      <td>1</td>\n",
              "      <td>2</td>\n",
              "      <td>7</td>\n",
              "      <td>1</td>\n",
              "      <td>0</td>\n",
              "      <td>0</td>\n",
              "      <td>0</td>\n",
              "      <td>0</td>\n",
              "      <td>1</td>\n",
              "      <td>0</td>\n",
              "      <td>SP</td>\n",
              "    </tr>\n",
              "    <tr>\n",
              "      <th>5</th>\n",
              "      <td>7348</td>\n",
              "      <td>1958</td>\n",
              "      <td>PhD</td>\n",
              "      <td>Single</td>\n",
              "      <td>$71,691.00</td>\n",
              "      <td>0</td>\n",
              "      <td>0</td>\n",
              "      <td>3/17/14</td>\n",
              "      <td>0</td>\n",
              "      <td>336</td>\n",
              "      <td>130</td>\n",
              "      <td>411</td>\n",
              "      <td>240</td>\n",
              "      <td>32</td>\n",
              "      <td>43</td>\n",
              "      <td>1</td>\n",
              "      <td>4</td>\n",
              "      <td>7</td>\n",
              "      <td>5</td>\n",
              "      <td>2</td>\n",
              "      <td>0</td>\n",
              "      <td>0</td>\n",
              "      <td>0</td>\n",
              "      <td>0</td>\n",
              "      <td>0</td>\n",
              "      <td>1</td>\n",
              "      <td>0</td>\n",
              "      <td>SP</td>\n",
              "    </tr>\n",
              "    <tr>\n",
              "      <th>6</th>\n",
              "      <td>4073</td>\n",
              "      <td>1954</td>\n",
              "      <td>2n Cycle</td>\n",
              "      <td>Married</td>\n",
              "      <td>$63,564.00</td>\n",
              "      <td>0</td>\n",
              "      <td>0</td>\n",
              "      <td>1/29/14</td>\n",
              "      <td>0</td>\n",
              "      <td>769</td>\n",
              "      <td>80</td>\n",
              "      <td>252</td>\n",
              "      <td>15</td>\n",
              "      <td>34</td>\n",
              "      <td>65</td>\n",
              "      <td>1</td>\n",
              "      <td>10</td>\n",
              "      <td>10</td>\n",
              "      <td>7</td>\n",
              "      <td>6</td>\n",
              "      <td>1</td>\n",
              "      <td>0</td>\n",
              "      <td>0</td>\n",
              "      <td>0</td>\n",
              "      <td>0</td>\n",
              "      <td>1</td>\n",
              "      <td>0</td>\n",
              "      <td>GER</td>\n",
              "    </tr>\n",
              "    <tr>\n",
              "      <th>7</th>\n",
              "      <td>1991</td>\n",
              "      <td>1967</td>\n",
              "      <td>Graduation</td>\n",
              "      <td>Together</td>\n",
              "      <td>$44,931.00</td>\n",
              "      <td>0</td>\n",
              "      <td>1</td>\n",
              "      <td>1/18/14</td>\n",
              "      <td>0</td>\n",
              "      <td>78</td>\n",
              "      <td>0</td>\n",
              "      <td>11</td>\n",
              "      <td>0</td>\n",
              "      <td>0</td>\n",
              "      <td>7</td>\n",
              "      <td>1</td>\n",
              "      <td>2</td>\n",
              "      <td>1</td>\n",
              "      <td>3</td>\n",
              "      <td>5</td>\n",
              "      <td>0</td>\n",
              "      <td>0</td>\n",
              "      <td>0</td>\n",
              "      <td>0</td>\n",
              "      <td>0</td>\n",
              "      <td>0</td>\n",
              "      <td>0</td>\n",
              "      <td>SP</td>\n",
              "    </tr>\n",
              "    <tr>\n",
              "      <th>8</th>\n",
              "      <td>4047</td>\n",
              "      <td>1954</td>\n",
              "      <td>PhD</td>\n",
              "      <td>Married</td>\n",
              "      <td>$65,324.00</td>\n",
              "      <td>0</td>\n",
              "      <td>1</td>\n",
              "      <td>1/11/14</td>\n",
              "      <td>0</td>\n",
              "      <td>384</td>\n",
              "      <td>0</td>\n",
              "      <td>102</td>\n",
              "      <td>21</td>\n",
              "      <td>32</td>\n",
              "      <td>5</td>\n",
              "      <td>3</td>\n",
              "      <td>6</td>\n",
              "      <td>2</td>\n",
              "      <td>9</td>\n",
              "      <td>4</td>\n",
              "      <td>0</td>\n",
              "      <td>0</td>\n",
              "      <td>0</td>\n",
              "      <td>0</td>\n",
              "      <td>0</td>\n",
              "      <td>0</td>\n",
              "      <td>0</td>\n",
              "      <td>US</td>\n",
              "    </tr>\n",
              "    <tr>\n",
              "      <th>9</th>\n",
              "      <td>9477</td>\n",
              "      <td>1954</td>\n",
              "      <td>PhD</td>\n",
              "      <td>Married</td>\n",
              "      <td>$65,324.00</td>\n",
              "      <td>0</td>\n",
              "      <td>1</td>\n",
              "      <td>1/11/14</td>\n",
              "      <td>0</td>\n",
              "      <td>384</td>\n",
              "      <td>0</td>\n",
              "      <td>102</td>\n",
              "      <td>21</td>\n",
              "      <td>32</td>\n",
              "      <td>5</td>\n",
              "      <td>3</td>\n",
              "      <td>6</td>\n",
              "      <td>2</td>\n",
              "      <td>9</td>\n",
              "      <td>4</td>\n",
              "      <td>0</td>\n",
              "      <td>0</td>\n",
              "      <td>0</td>\n",
              "      <td>0</td>\n",
              "      <td>0</td>\n",
              "      <td>0</td>\n",
              "      <td>0</td>\n",
              "      <td>IND</td>\n",
              "    </tr>\n",
              "  </tbody>\n",
              "</table>\n",
              "</div>"
            ],
            "text/plain": [
              "      ID  Year_Birth   Education  ... Response Complain  Country\n",
              "0   1826        1970  Graduation  ...        1        0       SP\n",
              "1      1        1961  Graduation  ...        1        0       CA\n",
              "2  10476        1958  Graduation  ...        0        0       US\n",
              "3   1386        1967  Graduation  ...        0        0      AUS\n",
              "4   5371        1989  Graduation  ...        1        0       SP\n",
              "5   7348        1958         PhD  ...        1        0       SP\n",
              "6   4073        1954    2n Cycle  ...        1        0      GER\n",
              "7   1991        1967  Graduation  ...        0        0       SP\n",
              "8   4047        1954         PhD  ...        0        0       US\n",
              "9   9477        1954         PhD  ...        0        0      IND\n",
              "\n",
              "[10 rows x 28 columns]"
            ]
          },
          "metadata": {
            "tags": []
          },
          "execution_count": 306
        }
      ]
    },
    {
      "cell_type": "code",
      "metadata": {
        "colab": {
          "base_uri": "https://localhost:8080/"
        },
        "id": "heSNCp3f_WX8",
        "outputId": "e3780a14-4926-456e-fb0b-e9caa1b5cc7d"
      },
      "source": [
        "data.dtypes"
      ],
      "execution_count": 307,
      "outputs": [
        {
          "output_type": "execute_result",
          "data": {
            "text/plain": [
              "ID                      int64\n",
              "Year_Birth              int64\n",
              "Education              object\n",
              "Marital_Status         object\n",
              " Income                object\n",
              "Kidhome                 int64\n",
              "Teenhome                int64\n",
              "Dt_Customer            object\n",
              "Recency                 int64\n",
              "MntWines                int64\n",
              "MntFruits               int64\n",
              "MntMeatProducts         int64\n",
              "MntFishProducts         int64\n",
              "MntSweetProducts        int64\n",
              "MntGoldProds            int64\n",
              "NumDealsPurchases       int64\n",
              "NumWebPurchases         int64\n",
              "NumCatalogPurchases     int64\n",
              "NumStorePurchases       int64\n",
              "NumWebVisitsMonth       int64\n",
              "AcceptedCmp3            int64\n",
              "AcceptedCmp4            int64\n",
              "AcceptedCmp5            int64\n",
              "AcceptedCmp1            int64\n",
              "AcceptedCmp2            int64\n",
              "Response                int64\n",
              "Complain                int64\n",
              "Country                object\n",
              "dtype: object"
            ]
          },
          "metadata": {
            "tags": []
          },
          "execution_count": 307
        }
      ]
    },
    {
      "cell_type": "markdown",
      "metadata": {
        "id": "eiqLLI80_il8"
      },
      "source": [
        "Adjust data types and fix typo in ' Income '"
      ]
    },
    {
      "cell_type": "code",
      "metadata": {
        "id": "o_0LvlyA_kMX"
      },
      "source": [
        "data = data.astype({\n",
        "    'Education': 'category',\n",
        "    'Marital_Status': 'category',\n",
        "    'Country': 'category',\n",
        "    })\n",
        "data.Dt_Customer = pd.to_datetime(data.Dt_Customer)\n",
        "data = data.rename(columns={' Income ': 'Income'})"
      ],
      "execution_count": 308,
      "outputs": []
    },
    {
      "cell_type": "code",
      "metadata": {
        "colab": {
          "base_uri": "https://localhost:8080/",
          "height": 320
        },
        "id": "MrGR3mBq3Rs-",
        "outputId": "5d01a85f-5ff4-4f6d-9363-0fdbfbfbb355"
      },
      "source": [
        "data.describe()"
      ],
      "execution_count": 309,
      "outputs": [
        {
          "output_type": "execute_result",
          "data": {
            "text/html": [
              "<div>\n",
              "<style scoped>\n",
              "    .dataframe tbody tr th:only-of-type {\n",
              "        vertical-align: middle;\n",
              "    }\n",
              "\n",
              "    .dataframe tbody tr th {\n",
              "        vertical-align: top;\n",
              "    }\n",
              "\n",
              "    .dataframe thead th {\n",
              "        text-align: right;\n",
              "    }\n",
              "</style>\n",
              "<table border=\"1\" class=\"dataframe\">\n",
              "  <thead>\n",
              "    <tr style=\"text-align: right;\">\n",
              "      <th></th>\n",
              "      <th>ID</th>\n",
              "      <th>Year_Birth</th>\n",
              "      <th>Kidhome</th>\n",
              "      <th>Teenhome</th>\n",
              "      <th>Recency</th>\n",
              "      <th>MntWines</th>\n",
              "      <th>MntFruits</th>\n",
              "      <th>MntMeatProducts</th>\n",
              "      <th>MntFishProducts</th>\n",
              "      <th>MntSweetProducts</th>\n",
              "      <th>MntGoldProds</th>\n",
              "      <th>NumDealsPurchases</th>\n",
              "      <th>NumWebPurchases</th>\n",
              "      <th>NumCatalogPurchases</th>\n",
              "      <th>NumStorePurchases</th>\n",
              "      <th>NumWebVisitsMonth</th>\n",
              "      <th>AcceptedCmp3</th>\n",
              "      <th>AcceptedCmp4</th>\n",
              "      <th>AcceptedCmp5</th>\n",
              "      <th>AcceptedCmp1</th>\n",
              "      <th>AcceptedCmp2</th>\n",
              "      <th>Response</th>\n",
              "      <th>Complain</th>\n",
              "    </tr>\n",
              "  </thead>\n",
              "  <tbody>\n",
              "    <tr>\n",
              "      <th>count</th>\n",
              "      <td>2240.000000</td>\n",
              "      <td>2240.000000</td>\n",
              "      <td>2240.000000</td>\n",
              "      <td>2240.000000</td>\n",
              "      <td>2240.000000</td>\n",
              "      <td>2240.000000</td>\n",
              "      <td>2240.000000</td>\n",
              "      <td>2240.000000</td>\n",
              "      <td>2240.000000</td>\n",
              "      <td>2240.000000</td>\n",
              "      <td>2240.000000</td>\n",
              "      <td>2240.000000</td>\n",
              "      <td>2240.000000</td>\n",
              "      <td>2240.000000</td>\n",
              "      <td>2240.000000</td>\n",
              "      <td>2240.000000</td>\n",
              "      <td>2240.000000</td>\n",
              "      <td>2240.000000</td>\n",
              "      <td>2240.000000</td>\n",
              "      <td>2240.000000</td>\n",
              "      <td>2240.000000</td>\n",
              "      <td>2240.000000</td>\n",
              "      <td>2240.000000</td>\n",
              "    </tr>\n",
              "    <tr>\n",
              "      <th>mean</th>\n",
              "      <td>5592.159821</td>\n",
              "      <td>1968.805804</td>\n",
              "      <td>0.444196</td>\n",
              "      <td>0.506250</td>\n",
              "      <td>49.109375</td>\n",
              "      <td>303.935714</td>\n",
              "      <td>26.302232</td>\n",
              "      <td>166.950000</td>\n",
              "      <td>37.525446</td>\n",
              "      <td>27.062946</td>\n",
              "      <td>44.021875</td>\n",
              "      <td>2.325000</td>\n",
              "      <td>4.084821</td>\n",
              "      <td>2.662054</td>\n",
              "      <td>5.790179</td>\n",
              "      <td>5.316518</td>\n",
              "      <td>0.072768</td>\n",
              "      <td>0.074554</td>\n",
              "      <td>0.072768</td>\n",
              "      <td>0.064286</td>\n",
              "      <td>0.013393</td>\n",
              "      <td>0.149107</td>\n",
              "      <td>0.009375</td>\n",
              "    </tr>\n",
              "    <tr>\n",
              "      <th>std</th>\n",
              "      <td>3246.662198</td>\n",
              "      <td>11.984069</td>\n",
              "      <td>0.538398</td>\n",
              "      <td>0.544538</td>\n",
              "      <td>28.962453</td>\n",
              "      <td>336.597393</td>\n",
              "      <td>39.773434</td>\n",
              "      <td>225.715373</td>\n",
              "      <td>54.628979</td>\n",
              "      <td>41.280498</td>\n",
              "      <td>52.167439</td>\n",
              "      <td>1.932238</td>\n",
              "      <td>2.778714</td>\n",
              "      <td>2.923101</td>\n",
              "      <td>3.250958</td>\n",
              "      <td>2.426645</td>\n",
              "      <td>0.259813</td>\n",
              "      <td>0.262728</td>\n",
              "      <td>0.259813</td>\n",
              "      <td>0.245316</td>\n",
              "      <td>0.114976</td>\n",
              "      <td>0.356274</td>\n",
              "      <td>0.096391</td>\n",
              "    </tr>\n",
              "    <tr>\n",
              "      <th>min</th>\n",
              "      <td>0.000000</td>\n",
              "      <td>1893.000000</td>\n",
              "      <td>0.000000</td>\n",
              "      <td>0.000000</td>\n",
              "      <td>0.000000</td>\n",
              "      <td>0.000000</td>\n",
              "      <td>0.000000</td>\n",
              "      <td>0.000000</td>\n",
              "      <td>0.000000</td>\n",
              "      <td>0.000000</td>\n",
              "      <td>0.000000</td>\n",
              "      <td>0.000000</td>\n",
              "      <td>0.000000</td>\n",
              "      <td>0.000000</td>\n",
              "      <td>0.000000</td>\n",
              "      <td>0.000000</td>\n",
              "      <td>0.000000</td>\n",
              "      <td>0.000000</td>\n",
              "      <td>0.000000</td>\n",
              "      <td>0.000000</td>\n",
              "      <td>0.000000</td>\n",
              "      <td>0.000000</td>\n",
              "      <td>0.000000</td>\n",
              "    </tr>\n",
              "    <tr>\n",
              "      <th>25%</th>\n",
              "      <td>2828.250000</td>\n",
              "      <td>1959.000000</td>\n",
              "      <td>0.000000</td>\n",
              "      <td>0.000000</td>\n",
              "      <td>24.000000</td>\n",
              "      <td>23.750000</td>\n",
              "      <td>1.000000</td>\n",
              "      <td>16.000000</td>\n",
              "      <td>3.000000</td>\n",
              "      <td>1.000000</td>\n",
              "      <td>9.000000</td>\n",
              "      <td>1.000000</td>\n",
              "      <td>2.000000</td>\n",
              "      <td>0.000000</td>\n",
              "      <td>3.000000</td>\n",
              "      <td>3.000000</td>\n",
              "      <td>0.000000</td>\n",
              "      <td>0.000000</td>\n",
              "      <td>0.000000</td>\n",
              "      <td>0.000000</td>\n",
              "      <td>0.000000</td>\n",
              "      <td>0.000000</td>\n",
              "      <td>0.000000</td>\n",
              "    </tr>\n",
              "    <tr>\n",
              "      <th>50%</th>\n",
              "      <td>5458.500000</td>\n",
              "      <td>1970.000000</td>\n",
              "      <td>0.000000</td>\n",
              "      <td>0.000000</td>\n",
              "      <td>49.000000</td>\n",
              "      <td>173.500000</td>\n",
              "      <td>8.000000</td>\n",
              "      <td>67.000000</td>\n",
              "      <td>12.000000</td>\n",
              "      <td>8.000000</td>\n",
              "      <td>24.000000</td>\n",
              "      <td>2.000000</td>\n",
              "      <td>4.000000</td>\n",
              "      <td>2.000000</td>\n",
              "      <td>5.000000</td>\n",
              "      <td>6.000000</td>\n",
              "      <td>0.000000</td>\n",
              "      <td>0.000000</td>\n",
              "      <td>0.000000</td>\n",
              "      <td>0.000000</td>\n",
              "      <td>0.000000</td>\n",
              "      <td>0.000000</td>\n",
              "      <td>0.000000</td>\n",
              "    </tr>\n",
              "    <tr>\n",
              "      <th>75%</th>\n",
              "      <td>8427.750000</td>\n",
              "      <td>1977.000000</td>\n",
              "      <td>1.000000</td>\n",
              "      <td>1.000000</td>\n",
              "      <td>74.000000</td>\n",
              "      <td>504.250000</td>\n",
              "      <td>33.000000</td>\n",
              "      <td>232.000000</td>\n",
              "      <td>50.000000</td>\n",
              "      <td>33.000000</td>\n",
              "      <td>56.000000</td>\n",
              "      <td>3.000000</td>\n",
              "      <td>6.000000</td>\n",
              "      <td>4.000000</td>\n",
              "      <td>8.000000</td>\n",
              "      <td>7.000000</td>\n",
              "      <td>0.000000</td>\n",
              "      <td>0.000000</td>\n",
              "      <td>0.000000</td>\n",
              "      <td>0.000000</td>\n",
              "      <td>0.000000</td>\n",
              "      <td>0.000000</td>\n",
              "      <td>0.000000</td>\n",
              "    </tr>\n",
              "    <tr>\n",
              "      <th>max</th>\n",
              "      <td>11191.000000</td>\n",
              "      <td>1996.000000</td>\n",
              "      <td>2.000000</td>\n",
              "      <td>2.000000</td>\n",
              "      <td>99.000000</td>\n",
              "      <td>1493.000000</td>\n",
              "      <td>199.000000</td>\n",
              "      <td>1725.000000</td>\n",
              "      <td>259.000000</td>\n",
              "      <td>263.000000</td>\n",
              "      <td>362.000000</td>\n",
              "      <td>15.000000</td>\n",
              "      <td>27.000000</td>\n",
              "      <td>28.000000</td>\n",
              "      <td>13.000000</td>\n",
              "      <td>20.000000</td>\n",
              "      <td>1.000000</td>\n",
              "      <td>1.000000</td>\n",
              "      <td>1.000000</td>\n",
              "      <td>1.000000</td>\n",
              "      <td>1.000000</td>\n",
              "      <td>1.000000</td>\n",
              "      <td>1.000000</td>\n",
              "    </tr>\n",
              "  </tbody>\n",
              "</table>\n",
              "</div>"
            ],
            "text/plain": [
              "                 ID   Year_Birth  ...     Response     Complain\n",
              "count   2240.000000  2240.000000  ...  2240.000000  2240.000000\n",
              "mean    5592.159821  1968.805804  ...     0.149107     0.009375\n",
              "std     3246.662198    11.984069  ...     0.356274     0.096391\n",
              "min        0.000000  1893.000000  ...     0.000000     0.000000\n",
              "25%     2828.250000  1959.000000  ...     0.000000     0.000000\n",
              "50%     5458.500000  1970.000000  ...     0.000000     0.000000\n",
              "75%     8427.750000  1977.000000  ...     0.000000     0.000000\n",
              "max    11191.000000  1996.000000  ...     1.000000     1.000000\n",
              "\n",
              "[8 rows x 23 columns]"
            ]
          },
          "metadata": {
            "tags": []
          },
          "execution_count": 309
        }
      ]
    },
    {
      "cell_type": "markdown",
      "metadata": {
        "id": "UBIeNlgZzpvs"
      },
      "source": [
        "# **Detecting NA's**"
      ]
    },
    {
      "cell_type": "code",
      "metadata": {
        "colab": {
          "base_uri": "https://localhost:8080/"
        },
        "id": "sA6x93PbzodG",
        "outputId": "9b4ca09b-3448-4157-81ff-d8f73c0d7a18"
      },
      "source": [
        "data.isna().sum()[data.isna().sum() != 0] # Show columns that have NA's and the amount of them"
      ],
      "execution_count": 310,
      "outputs": [
        {
          "output_type": "execute_result",
          "data": {
            "text/plain": [
              "Income    24\n",
              "dtype: int64"
            ]
          },
          "metadata": {
            "tags": []
          },
          "execution_count": 310
        }
      ]
    },
    {
      "cell_type": "code",
      "metadata": {
        "colab": {
          "base_uri": "https://localhost:8080/",
          "height": 822
        },
        "id": "sc_I29KT0PaV",
        "outputId": "2b59ba7b-8e56-4909-d56a-1c7c74c33bfa"
      },
      "source": [
        "data[data.Income.isna()] # Check out observations with Income == NaN"
      ],
      "execution_count": 311,
      "outputs": [
        {
          "output_type": "execute_result",
          "data": {
            "text/html": [
              "<div>\n",
              "<style scoped>\n",
              "    .dataframe tbody tr th:only-of-type {\n",
              "        vertical-align: middle;\n",
              "    }\n",
              "\n",
              "    .dataframe tbody tr th {\n",
              "        vertical-align: top;\n",
              "    }\n",
              "\n",
              "    .dataframe thead th {\n",
              "        text-align: right;\n",
              "    }\n",
              "</style>\n",
              "<table border=\"1\" class=\"dataframe\">\n",
              "  <thead>\n",
              "    <tr style=\"text-align: right;\">\n",
              "      <th></th>\n",
              "      <th>ID</th>\n",
              "      <th>Year_Birth</th>\n",
              "      <th>Education</th>\n",
              "      <th>Marital_Status</th>\n",
              "      <th>Income</th>\n",
              "      <th>Kidhome</th>\n",
              "      <th>Teenhome</th>\n",
              "      <th>Dt_Customer</th>\n",
              "      <th>Recency</th>\n",
              "      <th>MntWines</th>\n",
              "      <th>MntFruits</th>\n",
              "      <th>MntMeatProducts</th>\n",
              "      <th>MntFishProducts</th>\n",
              "      <th>MntSweetProducts</th>\n",
              "      <th>MntGoldProds</th>\n",
              "      <th>NumDealsPurchases</th>\n",
              "      <th>NumWebPurchases</th>\n",
              "      <th>NumCatalogPurchases</th>\n",
              "      <th>NumStorePurchases</th>\n",
              "      <th>NumWebVisitsMonth</th>\n",
              "      <th>AcceptedCmp3</th>\n",
              "      <th>AcceptedCmp4</th>\n",
              "      <th>AcceptedCmp5</th>\n",
              "      <th>AcceptedCmp1</th>\n",
              "      <th>AcceptedCmp2</th>\n",
              "      <th>Response</th>\n",
              "      <th>Complain</th>\n",
              "      <th>Country</th>\n",
              "    </tr>\n",
              "  </thead>\n",
              "  <tbody>\n",
              "    <tr>\n",
              "      <th>134</th>\n",
              "      <td>8996</td>\n",
              "      <td>1957</td>\n",
              "      <td>PhD</td>\n",
              "      <td>Married</td>\n",
              "      <td>NaN</td>\n",
              "      <td>2</td>\n",
              "      <td>1</td>\n",
              "      <td>2012-11-19</td>\n",
              "      <td>4</td>\n",
              "      <td>230</td>\n",
              "      <td>42</td>\n",
              "      <td>192</td>\n",
              "      <td>49</td>\n",
              "      <td>37</td>\n",
              "      <td>53</td>\n",
              "      <td>12</td>\n",
              "      <td>7</td>\n",
              "      <td>2</td>\n",
              "      <td>8</td>\n",
              "      <td>9</td>\n",
              "      <td>0</td>\n",
              "      <td>0</td>\n",
              "      <td>0</td>\n",
              "      <td>0</td>\n",
              "      <td>0</td>\n",
              "      <td>0</td>\n",
              "      <td>0</td>\n",
              "      <td>GER</td>\n",
              "    </tr>\n",
              "    <tr>\n",
              "      <th>262</th>\n",
              "      <td>1994</td>\n",
              "      <td>1983</td>\n",
              "      <td>Graduation</td>\n",
              "      <td>Married</td>\n",
              "      <td>NaN</td>\n",
              "      <td>1</td>\n",
              "      <td>0</td>\n",
              "      <td>2013-11-15</td>\n",
              "      <td>11</td>\n",
              "      <td>5</td>\n",
              "      <td>5</td>\n",
              "      <td>6</td>\n",
              "      <td>0</td>\n",
              "      <td>2</td>\n",
              "      <td>1</td>\n",
              "      <td>1</td>\n",
              "      <td>1</td>\n",
              "      <td>0</td>\n",
              "      <td>2</td>\n",
              "      <td>7</td>\n",
              "      <td>0</td>\n",
              "      <td>0</td>\n",
              "      <td>0</td>\n",
              "      <td>0</td>\n",
              "      <td>0</td>\n",
              "      <td>0</td>\n",
              "      <td>0</td>\n",
              "      <td>US</td>\n",
              "    </tr>\n",
              "    <tr>\n",
              "      <th>394</th>\n",
              "      <td>3769</td>\n",
              "      <td>1972</td>\n",
              "      <td>PhD</td>\n",
              "      <td>Together</td>\n",
              "      <td>NaN</td>\n",
              "      <td>1</td>\n",
              "      <td>0</td>\n",
              "      <td>2014-03-02</td>\n",
              "      <td>17</td>\n",
              "      <td>25</td>\n",
              "      <td>1</td>\n",
              "      <td>13</td>\n",
              "      <td>0</td>\n",
              "      <td>0</td>\n",
              "      <td>3</td>\n",
              "      <td>1</td>\n",
              "      <td>1</td>\n",
              "      <td>0</td>\n",
              "      <td>3</td>\n",
              "      <td>7</td>\n",
              "      <td>0</td>\n",
              "      <td>0</td>\n",
              "      <td>0</td>\n",
              "      <td>0</td>\n",
              "      <td>0</td>\n",
              "      <td>0</td>\n",
              "      <td>0</td>\n",
              "      <td>AUS</td>\n",
              "    </tr>\n",
              "    <tr>\n",
              "      <th>449</th>\n",
              "      <td>5255</td>\n",
              "      <td>1986</td>\n",
              "      <td>Graduation</td>\n",
              "      <td>Single</td>\n",
              "      <td>NaN</td>\n",
              "      <td>1</td>\n",
              "      <td>0</td>\n",
              "      <td>2013-02-20</td>\n",
              "      <td>19</td>\n",
              "      <td>5</td>\n",
              "      <td>1</td>\n",
              "      <td>3</td>\n",
              "      <td>3</td>\n",
              "      <td>263</td>\n",
              "      <td>362</td>\n",
              "      <td>0</td>\n",
              "      <td>27</td>\n",
              "      <td>0</td>\n",
              "      <td>0</td>\n",
              "      <td>1</td>\n",
              "      <td>0</td>\n",
              "      <td>0</td>\n",
              "      <td>0</td>\n",
              "      <td>0</td>\n",
              "      <td>0</td>\n",
              "      <td>0</td>\n",
              "      <td>0</td>\n",
              "      <td>AUS</td>\n",
              "    </tr>\n",
              "    <tr>\n",
              "      <th>525</th>\n",
              "      <td>8268</td>\n",
              "      <td>1961</td>\n",
              "      <td>PhD</td>\n",
              "      <td>Married</td>\n",
              "      <td>NaN</td>\n",
              "      <td>0</td>\n",
              "      <td>1</td>\n",
              "      <td>2013-07-11</td>\n",
              "      <td>23</td>\n",
              "      <td>352</td>\n",
              "      <td>0</td>\n",
              "      <td>27</td>\n",
              "      <td>10</td>\n",
              "      <td>0</td>\n",
              "      <td>15</td>\n",
              "      <td>3</td>\n",
              "      <td>6</td>\n",
              "      <td>1</td>\n",
              "      <td>7</td>\n",
              "      <td>6</td>\n",
              "      <td>0</td>\n",
              "      <td>0</td>\n",
              "      <td>0</td>\n",
              "      <td>0</td>\n",
              "      <td>0</td>\n",
              "      <td>0</td>\n",
              "      <td>0</td>\n",
              "      <td>CA</td>\n",
              "    </tr>\n",
              "    <tr>\n",
              "      <th>590</th>\n",
              "      <td>10629</td>\n",
              "      <td>1973</td>\n",
              "      <td>2n Cycle</td>\n",
              "      <td>Married</td>\n",
              "      <td>NaN</td>\n",
              "      <td>1</td>\n",
              "      <td>0</td>\n",
              "      <td>2012-09-14</td>\n",
              "      <td>25</td>\n",
              "      <td>25</td>\n",
              "      <td>3</td>\n",
              "      <td>43</td>\n",
              "      <td>17</td>\n",
              "      <td>4</td>\n",
              "      <td>17</td>\n",
              "      <td>3</td>\n",
              "      <td>3</td>\n",
              "      <td>0</td>\n",
              "      <td>3</td>\n",
              "      <td>8</td>\n",
              "      <td>0</td>\n",
              "      <td>0</td>\n",
              "      <td>0</td>\n",
              "      <td>0</td>\n",
              "      <td>0</td>\n",
              "      <td>0</td>\n",
              "      <td>0</td>\n",
              "      <td>GER</td>\n",
              "    </tr>\n",
              "    <tr>\n",
              "      <th>899</th>\n",
              "      <td>10475</td>\n",
              "      <td>1970</td>\n",
              "      <td>Master</td>\n",
              "      <td>Together</td>\n",
              "      <td>NaN</td>\n",
              "      <td>0</td>\n",
              "      <td>1</td>\n",
              "      <td>2013-04-01</td>\n",
              "      <td>39</td>\n",
              "      <td>187</td>\n",
              "      <td>5</td>\n",
              "      <td>65</td>\n",
              "      <td>26</td>\n",
              "      <td>20</td>\n",
              "      <td>14</td>\n",
              "      <td>2</td>\n",
              "      <td>4</td>\n",
              "      <td>2</td>\n",
              "      <td>6</td>\n",
              "      <td>5</td>\n",
              "      <td>0</td>\n",
              "      <td>0</td>\n",
              "      <td>0</td>\n",
              "      <td>0</td>\n",
              "      <td>0</td>\n",
              "      <td>0</td>\n",
              "      <td>0</td>\n",
              "      <td>US</td>\n",
              "    </tr>\n",
              "    <tr>\n",
              "      <th>997</th>\n",
              "      <td>9235</td>\n",
              "      <td>1957</td>\n",
              "      <td>Graduation</td>\n",
              "      <td>Single</td>\n",
              "      <td>NaN</td>\n",
              "      <td>1</td>\n",
              "      <td>1</td>\n",
              "      <td>2014-05-27</td>\n",
              "      <td>45</td>\n",
              "      <td>7</td>\n",
              "      <td>0</td>\n",
              "      <td>8</td>\n",
              "      <td>2</td>\n",
              "      <td>0</td>\n",
              "      <td>1</td>\n",
              "      <td>1</td>\n",
              "      <td>1</td>\n",
              "      <td>0</td>\n",
              "      <td>2</td>\n",
              "      <td>7</td>\n",
              "      <td>0</td>\n",
              "      <td>0</td>\n",
              "      <td>0</td>\n",
              "      <td>0</td>\n",
              "      <td>0</td>\n",
              "      <td>0</td>\n",
              "      <td>0</td>\n",
              "      <td>GER</td>\n",
              "    </tr>\n",
              "    <tr>\n",
              "      <th>1096</th>\n",
              "      <td>4345</td>\n",
              "      <td>1964</td>\n",
              "      <td>2n Cycle</td>\n",
              "      <td>Single</td>\n",
              "      <td>NaN</td>\n",
              "      <td>1</td>\n",
              "      <td>1</td>\n",
              "      <td>2014-01-12</td>\n",
              "      <td>49</td>\n",
              "      <td>5</td>\n",
              "      <td>1</td>\n",
              "      <td>9</td>\n",
              "      <td>2</td>\n",
              "      <td>0</td>\n",
              "      <td>4</td>\n",
              "      <td>1</td>\n",
              "      <td>1</td>\n",
              "      <td>0</td>\n",
              "      <td>2</td>\n",
              "      <td>7</td>\n",
              "      <td>0</td>\n",
              "      <td>0</td>\n",
              "      <td>0</td>\n",
              "      <td>0</td>\n",
              "      <td>0</td>\n",
              "      <td>0</td>\n",
              "      <td>0</td>\n",
              "      <td>AUS</td>\n",
              "    </tr>\n",
              "    <tr>\n",
              "      <th>1185</th>\n",
              "      <td>7187</td>\n",
              "      <td>1969</td>\n",
              "      <td>Master</td>\n",
              "      <td>Together</td>\n",
              "      <td>NaN</td>\n",
              "      <td>1</td>\n",
              "      <td>1</td>\n",
              "      <td>2013-05-18</td>\n",
              "      <td>52</td>\n",
              "      <td>375</td>\n",
              "      <td>42</td>\n",
              "      <td>48</td>\n",
              "      <td>94</td>\n",
              "      <td>66</td>\n",
              "      <td>96</td>\n",
              "      <td>7</td>\n",
              "      <td>4</td>\n",
              "      <td>10</td>\n",
              "      <td>4</td>\n",
              "      <td>3</td>\n",
              "      <td>0</td>\n",
              "      <td>0</td>\n",
              "      <td>0</td>\n",
              "      <td>0</td>\n",
              "      <td>0</td>\n",
              "      <td>0</td>\n",
              "      <td>0</td>\n",
              "      <td>AUS</td>\n",
              "    </tr>\n",
              "    <tr>\n",
              "      <th>1213</th>\n",
              "      <td>8720</td>\n",
              "      <td>1978</td>\n",
              "      <td>2n Cycle</td>\n",
              "      <td>Together</td>\n",
              "      <td>NaN</td>\n",
              "      <td>0</td>\n",
              "      <td>0</td>\n",
              "      <td>2012-08-12</td>\n",
              "      <td>53</td>\n",
              "      <td>32</td>\n",
              "      <td>2</td>\n",
              "      <td>1607</td>\n",
              "      <td>12</td>\n",
              "      <td>4</td>\n",
              "      <td>22</td>\n",
              "      <td>0</td>\n",
              "      <td>0</td>\n",
              "      <td>0</td>\n",
              "      <td>1</td>\n",
              "      <td>0</td>\n",
              "      <td>0</td>\n",
              "      <td>1</td>\n",
              "      <td>0</td>\n",
              "      <td>0</td>\n",
              "      <td>0</td>\n",
              "      <td>0</td>\n",
              "      <td>0</td>\n",
              "      <td>IND</td>\n",
              "    </tr>\n",
              "    <tr>\n",
              "      <th>1312</th>\n",
              "      <td>8557</td>\n",
              "      <td>1982</td>\n",
              "      <td>Graduation</td>\n",
              "      <td>Single</td>\n",
              "      <td>NaN</td>\n",
              "      <td>1</td>\n",
              "      <td>0</td>\n",
              "      <td>2013-06-17</td>\n",
              "      <td>57</td>\n",
              "      <td>11</td>\n",
              "      <td>3</td>\n",
              "      <td>22</td>\n",
              "      <td>2</td>\n",
              "      <td>2</td>\n",
              "      <td>6</td>\n",
              "      <td>2</td>\n",
              "      <td>2</td>\n",
              "      <td>0</td>\n",
              "      <td>3</td>\n",
              "      <td>6</td>\n",
              "      <td>0</td>\n",
              "      <td>0</td>\n",
              "      <td>0</td>\n",
              "      <td>0</td>\n",
              "      <td>0</td>\n",
              "      <td>0</td>\n",
              "      <td>0</td>\n",
              "      <td>AUS</td>\n",
              "    </tr>\n",
              "    <tr>\n",
              "      <th>1515</th>\n",
              "      <td>2863</td>\n",
              "      <td>1970</td>\n",
              "      <td>Graduation</td>\n",
              "      <td>Single</td>\n",
              "      <td>NaN</td>\n",
              "      <td>1</td>\n",
              "      <td>2</td>\n",
              "      <td>2013-08-23</td>\n",
              "      <td>67</td>\n",
              "      <td>738</td>\n",
              "      <td>20</td>\n",
              "      <td>172</td>\n",
              "      <td>52</td>\n",
              "      <td>50</td>\n",
              "      <td>20</td>\n",
              "      <td>6</td>\n",
              "      <td>2</td>\n",
              "      <td>3</td>\n",
              "      <td>10</td>\n",
              "      <td>7</td>\n",
              "      <td>0</td>\n",
              "      <td>1</td>\n",
              "      <td>0</td>\n",
              "      <td>1</td>\n",
              "      <td>0</td>\n",
              "      <td>0</td>\n",
              "      <td>0</td>\n",
              "      <td>SP</td>\n",
              "    </tr>\n",
              "    <tr>\n",
              "      <th>1558</th>\n",
              "      <td>2437</td>\n",
              "      <td>1989</td>\n",
              "      <td>Graduation</td>\n",
              "      <td>Married</td>\n",
              "      <td>NaN</td>\n",
              "      <td>0</td>\n",
              "      <td>0</td>\n",
              "      <td>2013-06-03</td>\n",
              "      <td>69</td>\n",
              "      <td>861</td>\n",
              "      <td>138</td>\n",
              "      <td>461</td>\n",
              "      <td>60</td>\n",
              "      <td>30</td>\n",
              "      <td>61</td>\n",
              "      <td>1</td>\n",
              "      <td>6</td>\n",
              "      <td>5</td>\n",
              "      <td>12</td>\n",
              "      <td>3</td>\n",
              "      <td>0</td>\n",
              "      <td>1</td>\n",
              "      <td>0</td>\n",
              "      <td>1</td>\n",
              "      <td>0</td>\n",
              "      <td>0</td>\n",
              "      <td>0</td>\n",
              "      <td>SP</td>\n",
              "    </tr>\n",
              "    <tr>\n",
              "      <th>1693</th>\n",
              "      <td>5250</td>\n",
              "      <td>1943</td>\n",
              "      <td>Master</td>\n",
              "      <td>Widow</td>\n",
              "      <td>NaN</td>\n",
              "      <td>0</td>\n",
              "      <td>0</td>\n",
              "      <td>2013-10-30</td>\n",
              "      <td>75</td>\n",
              "      <td>532</td>\n",
              "      <td>126</td>\n",
              "      <td>490</td>\n",
              "      <td>164</td>\n",
              "      <td>126</td>\n",
              "      <td>126</td>\n",
              "      <td>1</td>\n",
              "      <td>5</td>\n",
              "      <td>5</td>\n",
              "      <td>11</td>\n",
              "      <td>1</td>\n",
              "      <td>0</td>\n",
              "      <td>0</td>\n",
              "      <td>1</td>\n",
              "      <td>0</td>\n",
              "      <td>0</td>\n",
              "      <td>1</td>\n",
              "      <td>0</td>\n",
              "      <td>AUS</td>\n",
              "    </tr>\n",
              "    <tr>\n",
              "      <th>1804</th>\n",
              "      <td>7281</td>\n",
              "      <td>1959</td>\n",
              "      <td>PhD</td>\n",
              "      <td>Single</td>\n",
              "      <td>NaN</td>\n",
              "      <td>0</td>\n",
              "      <td>0</td>\n",
              "      <td>2013-11-05</td>\n",
              "      <td>80</td>\n",
              "      <td>81</td>\n",
              "      <td>11</td>\n",
              "      <td>50</td>\n",
              "      <td>3</td>\n",
              "      <td>2</td>\n",
              "      <td>39</td>\n",
              "      <td>1</td>\n",
              "      <td>1</td>\n",
              "      <td>3</td>\n",
              "      <td>4</td>\n",
              "      <td>2</td>\n",
              "      <td>0</td>\n",
              "      <td>0</td>\n",
              "      <td>0</td>\n",
              "      <td>0</td>\n",
              "      <td>0</td>\n",
              "      <td>0</td>\n",
              "      <td>0</td>\n",
              "      <td>AUS</td>\n",
              "    </tr>\n",
              "    <tr>\n",
              "      <th>1858</th>\n",
              "      <td>1612</td>\n",
              "      <td>1981</td>\n",
              "      <td>PhD</td>\n",
              "      <td>Single</td>\n",
              "      <td>NaN</td>\n",
              "      <td>1</td>\n",
              "      <td>0</td>\n",
              "      <td>2013-05-31</td>\n",
              "      <td>82</td>\n",
              "      <td>23</td>\n",
              "      <td>0</td>\n",
              "      <td>15</td>\n",
              "      <td>0</td>\n",
              "      <td>2</td>\n",
              "      <td>7</td>\n",
              "      <td>2</td>\n",
              "      <td>3</td>\n",
              "      <td>0</td>\n",
              "      <td>3</td>\n",
              "      <td>6</td>\n",
              "      <td>0</td>\n",
              "      <td>0</td>\n",
              "      <td>0</td>\n",
              "      <td>0</td>\n",
              "      <td>0</td>\n",
              "      <td>0</td>\n",
              "      <td>0</td>\n",
              "      <td>AUS</td>\n",
              "    </tr>\n",
              "    <tr>\n",
              "      <th>1863</th>\n",
              "      <td>5079</td>\n",
              "      <td>1971</td>\n",
              "      <td>Graduation</td>\n",
              "      <td>Married</td>\n",
              "      <td>NaN</td>\n",
              "      <td>1</td>\n",
              "      <td>1</td>\n",
              "      <td>2013-03-03</td>\n",
              "      <td>82</td>\n",
              "      <td>71</td>\n",
              "      <td>1</td>\n",
              "      <td>16</td>\n",
              "      <td>0</td>\n",
              "      <td>0</td>\n",
              "      <td>9</td>\n",
              "      <td>4</td>\n",
              "      <td>2</td>\n",
              "      <td>1</td>\n",
              "      <td>3</td>\n",
              "      <td>8</td>\n",
              "      <td>0</td>\n",
              "      <td>0</td>\n",
              "      <td>0</td>\n",
              "      <td>0</td>\n",
              "      <td>0</td>\n",
              "      <td>0</td>\n",
              "      <td>0</td>\n",
              "      <td>AUS</td>\n",
              "    </tr>\n",
              "    <tr>\n",
              "      <th>1880</th>\n",
              "      <td>10339</td>\n",
              "      <td>1954</td>\n",
              "      <td>Master</td>\n",
              "      <td>Together</td>\n",
              "      <td>NaN</td>\n",
              "      <td>0</td>\n",
              "      <td>1</td>\n",
              "      <td>2013-06-23</td>\n",
              "      <td>83</td>\n",
              "      <td>161</td>\n",
              "      <td>0</td>\n",
              "      <td>22</td>\n",
              "      <td>0</td>\n",
              "      <td>0</td>\n",
              "      <td>24</td>\n",
              "      <td>2</td>\n",
              "      <td>4</td>\n",
              "      <td>1</td>\n",
              "      <td>4</td>\n",
              "      <td>6</td>\n",
              "      <td>0</td>\n",
              "      <td>0</td>\n",
              "      <td>0</td>\n",
              "      <td>0</td>\n",
              "      <td>0</td>\n",
              "      <td>0</td>\n",
              "      <td>0</td>\n",
              "      <td>AUS</td>\n",
              "    </tr>\n",
              "    <tr>\n",
              "      <th>1967</th>\n",
              "      <td>5798</td>\n",
              "      <td>1973</td>\n",
              "      <td>Master</td>\n",
              "      <td>Together</td>\n",
              "      <td>NaN</td>\n",
              "      <td>0</td>\n",
              "      <td>0</td>\n",
              "      <td>2013-11-23</td>\n",
              "      <td>87</td>\n",
              "      <td>445</td>\n",
              "      <td>37</td>\n",
              "      <td>359</td>\n",
              "      <td>98</td>\n",
              "      <td>28</td>\n",
              "      <td>18</td>\n",
              "      <td>1</td>\n",
              "      <td>2</td>\n",
              "      <td>4</td>\n",
              "      <td>8</td>\n",
              "      <td>1</td>\n",
              "      <td>0</td>\n",
              "      <td>0</td>\n",
              "      <td>0</td>\n",
              "      <td>0</td>\n",
              "      <td>0</td>\n",
              "      <td>0</td>\n",
              "      <td>0</td>\n",
              "      <td>GER</td>\n",
              "    </tr>\n",
              "    <tr>\n",
              "      <th>1983</th>\n",
              "      <td>2902</td>\n",
              "      <td>1958</td>\n",
              "      <td>Graduation</td>\n",
              "      <td>Together</td>\n",
              "      <td>NaN</td>\n",
              "      <td>1</td>\n",
              "      <td>1</td>\n",
              "      <td>2012-09-03</td>\n",
              "      <td>87</td>\n",
              "      <td>19</td>\n",
              "      <td>4</td>\n",
              "      <td>12</td>\n",
              "      <td>2</td>\n",
              "      <td>2</td>\n",
              "      <td>6</td>\n",
              "      <td>1</td>\n",
              "      <td>1</td>\n",
              "      <td>0</td>\n",
              "      <td>3</td>\n",
              "      <td>5</td>\n",
              "      <td>0</td>\n",
              "      <td>0</td>\n",
              "      <td>0</td>\n",
              "      <td>0</td>\n",
              "      <td>0</td>\n",
              "      <td>0</td>\n",
              "      <td>0</td>\n",
              "      <td>AUS</td>\n",
              "    </tr>\n",
              "    <tr>\n",
              "      <th>2139</th>\n",
              "      <td>3117</td>\n",
              "      <td>1955</td>\n",
              "      <td>Graduation</td>\n",
              "      <td>Single</td>\n",
              "      <td>NaN</td>\n",
              "      <td>0</td>\n",
              "      <td>1</td>\n",
              "      <td>2013-10-18</td>\n",
              "      <td>95</td>\n",
              "      <td>264</td>\n",
              "      <td>0</td>\n",
              "      <td>21</td>\n",
              "      <td>12</td>\n",
              "      <td>6</td>\n",
              "      <td>147</td>\n",
              "      <td>3</td>\n",
              "      <td>6</td>\n",
              "      <td>1</td>\n",
              "      <td>5</td>\n",
              "      <td>7</td>\n",
              "      <td>0</td>\n",
              "      <td>0</td>\n",
              "      <td>0</td>\n",
              "      <td>0</td>\n",
              "      <td>0</td>\n",
              "      <td>0</td>\n",
              "      <td>0</td>\n",
              "      <td>AUS</td>\n",
              "    </tr>\n",
              "    <tr>\n",
              "      <th>2165</th>\n",
              "      <td>7244</td>\n",
              "      <td>1951</td>\n",
              "      <td>Graduation</td>\n",
              "      <td>Single</td>\n",
              "      <td>NaN</td>\n",
              "      <td>2</td>\n",
              "      <td>1</td>\n",
              "      <td>2014-01-01</td>\n",
              "      <td>96</td>\n",
              "      <td>48</td>\n",
              "      <td>5</td>\n",
              "      <td>48</td>\n",
              "      <td>6</td>\n",
              "      <td>10</td>\n",
              "      <td>7</td>\n",
              "      <td>3</td>\n",
              "      <td>2</td>\n",
              "      <td>1</td>\n",
              "      <td>4</td>\n",
              "      <td>6</td>\n",
              "      <td>0</td>\n",
              "      <td>0</td>\n",
              "      <td>0</td>\n",
              "      <td>0</td>\n",
              "      <td>0</td>\n",
              "      <td>0</td>\n",
              "      <td>0</td>\n",
              "      <td>AUS</td>\n",
              "    </tr>\n",
              "    <tr>\n",
              "      <th>2170</th>\n",
              "      <td>1295</td>\n",
              "      <td>1963</td>\n",
              "      <td>Graduation</td>\n",
              "      <td>Married</td>\n",
              "      <td>NaN</td>\n",
              "      <td>0</td>\n",
              "      <td>1</td>\n",
              "      <td>2013-08-11</td>\n",
              "      <td>96</td>\n",
              "      <td>231</td>\n",
              "      <td>65</td>\n",
              "      <td>196</td>\n",
              "      <td>38</td>\n",
              "      <td>71</td>\n",
              "      <td>124</td>\n",
              "      <td>1</td>\n",
              "      <td>6</td>\n",
              "      <td>5</td>\n",
              "      <td>7</td>\n",
              "      <td>4</td>\n",
              "      <td>0</td>\n",
              "      <td>0</td>\n",
              "      <td>0</td>\n",
              "      <td>0</td>\n",
              "      <td>0</td>\n",
              "      <td>0</td>\n",
              "      <td>0</td>\n",
              "      <td>CA</td>\n",
              "    </tr>\n",
              "  </tbody>\n",
              "</table>\n",
              "</div>"
            ],
            "text/plain": [
              "         ID  Year_Birth   Education  ... Response Complain  Country\n",
              "134    8996        1957         PhD  ...        0        0      GER\n",
              "262    1994        1983  Graduation  ...        0        0       US\n",
              "394    3769        1972         PhD  ...        0        0      AUS\n",
              "449    5255        1986  Graduation  ...        0        0      AUS\n",
              "525    8268        1961         PhD  ...        0        0       CA\n",
              "590   10629        1973    2n Cycle  ...        0        0      GER\n",
              "899   10475        1970      Master  ...        0        0       US\n",
              "997    9235        1957  Graduation  ...        0        0      GER\n",
              "1096   4345        1964    2n Cycle  ...        0        0      AUS\n",
              "1185   7187        1969      Master  ...        0        0      AUS\n",
              "1213   8720        1978    2n Cycle  ...        0        0      IND\n",
              "1312   8557        1982  Graduation  ...        0        0      AUS\n",
              "1515   2863        1970  Graduation  ...        0        0       SP\n",
              "1558   2437        1989  Graduation  ...        0        0       SP\n",
              "1693   5250        1943      Master  ...        1        0      AUS\n",
              "1804   7281        1959         PhD  ...        0        0      AUS\n",
              "1858   1612        1981         PhD  ...        0        0      AUS\n",
              "1863   5079        1971  Graduation  ...        0        0      AUS\n",
              "1880  10339        1954      Master  ...        0        0      AUS\n",
              "1967   5798        1973      Master  ...        0        0      GER\n",
              "1983   2902        1958  Graduation  ...        0        0      AUS\n",
              "2139   3117        1955  Graduation  ...        0        0      AUS\n",
              "2165   7244        1951  Graduation  ...        0        0      AUS\n",
              "2170   1295        1963  Graduation  ...        0        0       CA\n",
              "\n",
              "[24 rows x 28 columns]"
            ]
          },
          "metadata": {
            "tags": []
          },
          "execution_count": 311
        }
      ]
    },
    {
      "cell_type": "markdown",
      "metadata": {
        "id": "_Khorm-EErCo"
      },
      "source": [
        "Formatting of the column Income is needed to have it converted to float so that it can be further utilised in the analysis"
      ]
    },
    {
      "cell_type": "code",
      "metadata": {
        "id": "7VdmdMhK9ID9"
      },
      "source": [
        "data['Clean_Income'] = data.Income.apply(lambda x: re.sub(r'[^\\d.]', '', str(x)) if pd.notna(x) else np.nan )"
      ],
      "execution_count": 312,
      "outputs": []
    },
    {
      "cell_type": "code",
      "metadata": {
        "id": "R6u7y3ENgfvw"
      },
      "source": [
        "data.Clean_Income = data.Clean_Income.astype('float64')"
      ],
      "execution_count": 313,
      "outputs": []
    },
    {
      "cell_type": "markdown",
      "metadata": {
        "id": "fZOLmKo2Eget"
      },
      "source": [
        "There are 24 NA's in our dataset. It is possible to replace the NA's with averages incomes of some categorical variable. Lets see some categorical columns to choose on what to base our averages."
      ]
    },
    {
      "cell_type": "code",
      "metadata": {
        "colab": {
          "base_uri": "https://localhost:8080/",
          "height": 700
        },
        "id": "DsqFWZoQl2mf",
        "outputId": "6979b003-1809-494f-a4b4-d3ad9c021593"
      },
      "source": [
        "fig, (ax1, ax2, ax3) = plt.subplots(ncols=3, sharey=True)\n",
        "fig.set_size_inches(20, 15)\n",
        "sns.boxplot(x = data.Education, y = data.Clean_Income, ax=ax1)\n",
        "sns.boxplot(x = data.Marital_Status, y = data.Clean_Income, ax=ax2)\n",
        "sns.boxplot(x = data.Country, y = data.Clean_Income, ax=ax3)\n",
        "\n",
        "plt.show()"
      ],
      "execution_count": 314,
      "outputs": [
        {
          "output_type": "display_data",
          "data": {
            "image/png": "[encoded data removed]",
            "text/plain": [
              "<Figure size 1440x1080 with 3 Axes>"
            ]
          },
          "metadata": {
            "tags": [],
            "needs_background": "light"
          }
        }
      ]
    },
    {
      "cell_type": "markdown",
      "metadata": {
        "id": "90AWJiNin7Bw"
      },
      "source": [
        "It looks like (and also quite logical) Clean_Income is best represented with Education. Let's replace the NA's in income with the averages of those persons' education levels."
      ]
    },
    {
      "cell_type": "code",
      "metadata": {
        "id": "bIGYIWfnvub-"
      },
      "source": [
        "education_means = data.groupby('Education')['Clean_Income'].mean()"
      ],
      "execution_count": 315,
      "outputs": []
    },
    {
      "cell_type": "code",
      "metadata": {
        "id": "SZAYaDeBn4Dt"
      },
      "source": [
        "for cat in data.Education.unique().tolist():\n",
        "  indexes = data[data.Clean_Income.isna() & (data.Education == cat)].Clean_Income.index\n",
        "  data.iloc[indexes, -1] = education_means[cat]\n"
      ],
      "execution_count": 316,
      "outputs": []
    },
    {
      "cell_type": "code",
      "metadata": {
        "colab": {
          "base_uri": "https://localhost:8080/"
        },
        "id": "XzOGa780xJbV",
        "outputId": "1716811b-4004-4b04-cb50-e00b65c9be4b"
      },
      "source": [
        "data['Clean_Income'].isna().sum()"
      ],
      "execution_count": 317,
      "outputs": [
        {
          "output_type": "execute_result",
          "data": {
            "text/plain": [
              "0"
            ]
          },
          "metadata": {
            "tags": []
          },
          "execution_count": 317
        }
      ]
    },
    {
      "cell_type": "markdown",
      "metadata": {
        "id": "b9eb1CxwqU2g"
      },
      "source": [
        "# **Outlier detection**"
      ]
    },
    {
      "cell_type": "markdown",
      "metadata": {
        "id": "APZW-wk2E3Lb"
      },
      "source": [
        "Function `detect_outliers(values)` uses Z-score (points with Z-score > 5 are considered outliers; althought in traditional statistics values about > 3 are considered outliers, I will use 5 as a more robust approach) to detect outliers in integer and float variables"
      ]
    },
    {
      "cell_type": "code",
      "metadata": {
        "id": "7QhgYc7mKx8f"
      },
      "source": [
        "def detect_outliers(values: pd.Series):\n",
        "  threshhold = 5\n",
        "\n",
        "  z_scores = stats.zscore(values)\n",
        "  outliers = values[np.abs(z_scores) > threshhold]\n",
        "\n",
        "  return {\"id\": outliers.index, \"value\": outliers.values}"
      ],
      "execution_count": 318,
      "outputs": []
    },
    {
      "cell_type": "code",
      "metadata": {
        "colab": {
          "base_uri": "https://localhost:8080/"
        },
        "id": "NpMXYvrt65cF",
        "outputId": "d233ea36-bf49-4f08-f7de-d2ce6f98df10"
      },
      "source": [
        "for column in data.select_dtypes(include=[np.number]):\n",
        "  print(f\"{column}: { (detect_outliers(data[column]))['value'].tolist() }\")\n"
      ],
      "execution_count": 319,
      "outputs": [
        {
          "output_type": "stream",
          "text": [
            "ID: []\n",
            "Year_Birth: [1893, 1899, 1900]\n",
            "Kidhome: []\n",
            "Teenhome: []\n",
            "Recency: []\n",
            "MntWines: []\n",
            "MntFruits: []\n",
            "MntMeatProducts: [1725, 1622, 1725, 1607, 1582]\n",
            "MntFishProducts: []\n",
            "MntSweetProducts: [262, 263]\n",
            "MntGoldProds: [321, 362]\n",
            "NumDealsPurchases: [12, 12, 12, 12, 15, 15, 15, 15, 15, 13, 13, 15, 13, 15]\n",
            "NumWebPurchases: [25, 27, 27, 23]\n",
            "NumCatalogPurchases: [28, 28, 28, 22]\n",
            "NumStorePurchases: []\n",
            "NumWebVisitsMonth: [19, 19, 20, 20, 20]\n",
            "AcceptedCmp3: []\n",
            "AcceptedCmp4: []\n",
            "AcceptedCmp5: []\n",
            "AcceptedCmp1: []\n",
            "AcceptedCmp2: [1, 1, 1, 1, 1, 1, 1, 1, 1, 1, 1, 1, 1, 1, 1, 1, 1, 1, 1, 1, 1, 1, 1, 1, 1, 1, 1, 1, 1, 1]\n",
            "Response: []\n",
            "Complain: [1, 1, 1, 1, 1, 1, 1, 1, 1, 1, 1, 1, 1, 1, 1, 1, 1, 1, 1, 1, 1]\n",
            "Clean_Income: [666666.0]\n"
          ],
          "name": "stdout"
        }
      ]
    },
    {
      "cell_type": "markdown",
      "metadata": {
        "id": "5B_9AVeZHif_"
      },
      "source": [
        "Let's check out some variables that have outliers!"
      ]
    },
    {
      "cell_type": "code",
      "metadata": {
        "colab": {
          "base_uri": "https://localhost:8080/",
          "height": 953
        },
        "id": "U2h2fSo-Hmhq",
        "outputId": "20dbf1cc-7638-4eaf-f3f7-a1dcfe8a17fa"
      },
      "source": [
        "fig, (ax) = plt.subplots(5,2) \n",
        "\n",
        "fig.set_size_inches(20, 20)\n",
        "sns.boxplot(x=data.Clean_Income, ax=ax[0, 0])\n",
        "sns.boxplot(x=data.Year_Birth, ax=ax[0, 1])\n",
        "sns.boxplot(x=data.MntMeatProducts, ax=ax[1,0])\n",
        "sns.boxplot(x=data.MntSweetProducts, ax=ax[1,1])\n",
        "sns.boxplot(x=data.MntGoldProds, ax=ax[2,0])\n",
        "sns.boxplot(x=data.NumDealsPurchases, ax=ax[2,1])\n",
        "sns.boxplot(x=data.NumWebPurchases, ax=ax[3,0])\n",
        "sns.boxplot(x=data.NumCatalogPurchases, ax=ax[3,1])\n",
        "sns.boxplot(x=data.NumCatalogPurchases, ax=ax[4,0])\n",
        "\n",
        "\n",
        "plt.show()"
      ],
      "execution_count": 320,
      "outputs": [
        {
          "output_type": "display_data",
          "data": {
            "image/png": "[encoded data removed]",
            "text/plain": [
              "<Figure size 1440x1440 with 10 Axes>"
            ]
          },
          "metadata": {
            "tags": [],
            "needs_background": "light"
          }
        }
      ]
    },
    {
      "cell_type": "code",
      "metadata": {
        "colab": {
          "base_uri": "https://localhost:8080/"
        },
        "id": "7851vOWSFM4Z",
        "outputId": "481a85eb-5a83-4617-aa6a-2ab6c17424e0"
      },
      "source": [
        "outliers_to_drop = []\n",
        "for column in data.select_dtypes(include=[np.number]):\n",
        "\n",
        "  # We are going to skip some numerical variables that are in reality binary\n",
        "  if not column in ['AcceptedCmp1', 'AcceptedCmp2', 'AcceptedCmp3', \n",
        "                'AcceptedCmp4', 'AcceptedCmp5', 'Response', 'Complain']:\n",
        "    outliers_to_drop.extend(detect_outliers(data[column])['id'])\n",
        "\n",
        "print(f\"{ round((len(set(outliers_to_drop))/len(data.index))*100, 2) }% of observations are outliers.\")"
      ],
      "execution_count": 321,
      "outputs": [
        {
          "output_type": "stream",
          "text": [
            "1.16% of observations are outliers.\n"
          ],
          "name": "stdout"
        }
      ]
    },
    {
      "cell_type": "markdown",
      "metadata": {
        "id": "u8maGIJPEh4X"
      },
      "source": [
        "Based on the Z-score and plots, there are only about 1% of outliers, it would not be a problem to delete all the extremes that `detect_outliers(values)` gave us.\n"
      ]
    },
    {
      "cell_type": "code",
      "metadata": {
        "id": "7ZKbyFoCHmlL"
      },
      "source": [
        "no_outliers_data = data.drop(outliers_to_drop, axis=0)"
      ],
      "execution_count": 322,
      "outputs": []
    },
    {
      "cell_type": "markdown",
      "metadata": {
        "id": "_pOIG68lWAFK"
      },
      "source": [
        "# **Data transformations**"
      ]
    },
    {
      "cell_type": "code",
      "metadata": {
        "colab": {
          "base_uri": "https://localhost:8080/",
          "height": 297
        },
        "id": "6YquaOHSfY5f",
        "outputId": "a9950af7-2c5c-447a-8666-156f608e841f"
      },
      "source": [
        "sns.histplot(no_outliers_data.Clean_Income)"
      ],
      "execution_count": 323,
      "outputs": [
        {
          "output_type": "execute_result",
          "data": {
            "text/plain": [
              "<matplotlib.axes._subplots.AxesSubplot at 0x7effaa699978>"
            ]
          },
          "metadata": {
            "tags": []
          },
          "execution_count": 323
        },
        {
          "output_type": "display_data",
          "data": {
            "image/png": "[encoded data removed]",
            "text/plain": [
              "<Figure size 432x288 with 1 Axes>"
            ]
          },
          "metadata": {
            "tags": [],
            "needs_background": "light"
          }
        }
      ]
    },
    {
      "cell_type": "markdown",
      "metadata": {
        "id": "aKlF8TT2fj29"
      },
      "source": [
        "As can be seen from the histogram, there are still some extreme values in income. To fix that and have a more normal distribution, we will max the income at 100000."
      ]
    },
    {
      "cell_type": "code",
      "metadata": {
        "colab": {
          "base_uri": "https://localhost:8080/",
          "height": 280
        },
        "id": "2Mv7xx8wVsBw",
        "outputId": "799cf691-c941-4862-9ba1-99c177cef028"
      },
      "source": [
        "clipped_income = no_outliers_data.Clean_Income.apply(lambda x: 100000 if x > 100000 else x)\n",
        "income_hist = sns.histplot(clipped_income)"
      ],
      "execution_count": 324,
      "outputs": [
        {
          "output_type": "display_data",
          "data": {
            "image/png": "[encoded data removed]",
            "text/plain": [
              "<Figure size 432x288 with 1 Axes>"
            ]
          },
          "metadata": {
            "tags": [],
            "needs_background": "light"
          }
        }
      ]
    },
    {
      "cell_type": "code",
      "metadata": {
        "colab": {
          "base_uri": "https://localhost:8080/",
          "height": 296
        },
        "id": "yEra0XcnYAxI",
        "outputId": "e5043110-59cc-42e8-86ef-63a0db14610d"
      },
      "source": [
        "wines = sns.histplot(no_outliers_data.MntWines)\n",
        "print(f\"Skew: {no_outliers_data.MntWines.skew()}\")"
      ],
      "execution_count": 325,
      "outputs": [
        {
          "output_type": "stream",
          "text": [
            "Skew: 1.1715465584578548\n"
          ],
          "name": "stdout"
        },
        {
          "output_type": "display_data",
          "data": {
            "image/png": "[encoded data removed]",
            "text/plain": [
              "<Figure size 432x288 with 1 Axes>"
            ]
          },
          "metadata": {
            "tags": [],
            "needs_background": "light"
          }
        }
      ]
    },
    {
      "cell_type": "markdown",
      "metadata": {
        "id": "Q0uQGN4Kf1Oo"
      },
      "source": [
        "Although some variables like MntWines, MntFruits and etc. are positively skewed, our sample size is big enough, so it wouldn't affect our performance. All the other main variables look quite good. We may further transform the data in the future."
      ]
    },
    {
      "cell_type": "markdown",
      "metadata": {
        "id": "O_runJyof_pT"
      },
      "source": [
        "# **Feature engineering**"
      ]
    },
    {
      "cell_type": "markdown",
      "metadata": {
        "id": "HkA7d2H0rPaU"
      },
      "source": [
        "Let's check out the Year_Birth histogram"
      ]
    },
    {
      "cell_type": "code",
      "metadata": {
        "colab": {
          "base_uri": "https://localhost:8080/",
          "height": 297
        },
        "id": "xC5B5oIDc5nu",
        "outputId": "0c7b1a9b-7352-48e5-d0df-474df8e5a9ed"
      },
      "source": [
        "sns.histplot(no_outliers_data.Year_Birth)"
      ],
      "execution_count": 326,
      "outputs": [
        {
          "output_type": "execute_result",
          "data": {
            "text/plain": [
              "<matplotlib.axes._subplots.AxesSubplot at 0x7effb7a389b0>"
            ]
          },
          "metadata": {
            "tags": []
          },
          "execution_count": 326
        },
        {
          "output_type": "display_data",
          "data": {
            "image/png": "[encoded data removed]",
            "text/plain": [
              "<Figure size 432x288 with 1 Axes>"
            ]
          },
          "metadata": {
            "tags": [],
            "needs_background": "light"
          }
        }
      ]
    },
    {
      "cell_type": "markdown",
      "metadata": {
        "id": "tU2LbUGRndD_"
      },
      "source": [
        "It would be effective to discretize the birth years into bins of 5 years. Binned discrete feature would help make our future model more accurate and working with discrete varaibles makes our analysis easier."
      ]
    },
    {
      "cell_type": "code",
      "metadata": {
        "colab": {
          "base_uri": "https://localhost:8080/"
        },
        "id": "vmPzCG86YANa",
        "outputId": "86e54e99-0dfc-4f81-ce27-a19f0bc810f3"
      },
      "source": [
        "print(f'Minimal year of birth in the data set is { no_outliers_data.Year_Birth.min() }, maximal is { no_outliers_data.Year_Birth.max() }.')"
      ],
      "execution_count": 327,
      "outputs": [
        {
          "output_type": "stream",
          "text": [
            "Minimal year of birth in the data set is 1940, maximal is 1996.\n"
          ],
          "name": "stdout"
        }
      ]
    },
    {
      "cell_type": "code",
      "metadata": {
        "id": "8kQkBqi2YGgX"
      },
      "source": [
        "no_outliers_data['Year_Bin'] = pd.cut(no_outliers_data.Year_Birth, bins = np.arange(1940, 2005, 5).tolist(), \n",
        "                  labels=[ f'{x}-{x+5}' for x in np.arange(1940, 2000, 5).tolist() ]) \n",
        "#Discretize our variable into bins of 5 years and add labels"
      ],
      "execution_count": 328,
      "outputs": []
    },
    {
      "cell_type": "code",
      "metadata": {
        "colab": {
          "base_uri": "https://localhost:8080/",
          "height": 318
        },
        "id": "sYwJFKnPZKYf",
        "outputId": "e2ebbf2e-9b87-4ae0-f202-2865f36718a2"
      },
      "source": [
        "sns.countplot(x = no_outliers_data.Year_Bin) \\\n",
        "  .set_xticklabels(years.xaxis.get_ticklabels(), rotation=50)\n",
        "plt.show()"
      ],
      "execution_count": 329,
      "outputs": [
        {
          "output_type": "display_data",
          "data": {
            "image/png": "[encoded data removed]",
            "text/plain": [
              "<Figure size 432x288 with 1 Axes>"
            ]
          },
          "metadata": {
            "tags": [],
            "needs_background": "light"
          }
        }
      ]
    },
    {
      "cell_type": "markdown",
      "metadata": {
        "id": "HLBNVmfRn7rZ"
      },
      "source": [
        "Looks much better! The distribution has also became closer to Gaussian."
      ]
    },
    {
      "cell_type": "markdown",
      "metadata": {
        "id": "JueZhjl_seH6"
      },
      "source": [
        "Let's now make some features out of Dt_Customer column. We will make feature for year, month, day and day of the week of Dt_Customer."
      ]
    },
    {
      "cell_type": "code",
      "metadata": {
        "id": "b60P9HU4skWz"
      },
      "source": [
        "no_outliers_data['Dt_Customer_Year'] = no_outliers_data.Dt_Customer.dt.year\n",
        "no_outliers_data['Dt_Customer_Month'] = no_outliers_data.Dt_Customer.dt.month\n",
        "no_outliers_data['Dt_Customer_Day'] = no_outliers_data.Dt_Customer.dt.day\n",
        "no_outliers_data['Dt_Customer_DayOfWeek'] = no_outliers_data.Dt_Customer.dt.dayofweek"
      ],
      "execution_count": 330,
      "outputs": []
    },
    {
      "cell_type": "markdown",
      "metadata": {
        "id": "iZ6TH6smtbCr"
      },
      "source": [
        "Next we'll make features out of our categorical variables!"
      ]
    },
    {
      "cell_type": "code",
      "metadata": {
        "id": "BJ3EZCemxPVj"
      },
      "source": [
        "featured_data = pd.get_dummies(no_outliers_data, columns=['Education', 'Marital_Status', 'Country' ])"
      ],
      "execution_count": 331,
      "outputs": []
    },
    {
      "cell_type": "markdown",
      "metadata": {
        "id": "CMF8108vpQsB"
      },
      "source": [
        "# **Anomaly detection**"
      ]
    },
    {
      "cell_type": "markdown",
      "metadata": {
        "id": "y_cR_7OR-ibs"
      },
      "source": [
        "Let's first check out some joint distributions"
      ]
    },
    {
      "cell_type": "code",
      "metadata": {
        "colab": {
          "base_uri": "https://localhost:8080/",
          "height": 401
        },
        "id": "RXGvJ6WkiixG",
        "outputId": "d8849d56-e1b0-4c4f-bd9c-142f69815ab4"
      },
      "source": [
        "sns.relplot(x = featured_data.Year_Birth, y = featured_data.Clean_Income)"
      ],
      "execution_count": 332,
      "outputs": [
        {
          "output_type": "execute_result",
          "data": {
            "text/plain": [
              "<seaborn.axisgrid.FacetGrid at 0x7effa98eb630>"
            ]
          },
          "metadata": {
            "tags": []
          },
          "execution_count": 332
        },
        {
          "output_type": "display_data",
          "data": {
            "image/png": "[encoded data removed]",
            "text/plain": [
              "<Figure size 360x360 with 1 Axes>"
            ]
          },
          "metadata": {
            "tags": [],
            "needs_background": "light"
          }
        }
      ]
    },
    {
      "cell_type": "code",
      "metadata": {
        "colab": {
          "base_uri": "https://localhost:8080/",
          "height": 296
        },
        "id": "PHxIEPjOixTC",
        "outputId": "e5f3367c-2c62-42e7-e03b-1f0c2432c041"
      },
      "source": [
        "sns.boxplot(x = featured_data.Kidhome, y = featured_data.Clean_Income)"
      ],
      "execution_count": 333,
      "outputs": [
        {
          "output_type": "execute_result",
          "data": {
            "text/plain": [
              "<matplotlib.axes._subplots.AxesSubplot at 0x7effaa664940>"
            ]
          },
          "metadata": {
            "tags": []
          },
          "execution_count": 333
        },
        {
          "output_type": "display_data",
          "data": {
            "image/png": "[encoded data removed]",
            "text/plain": [
              "<Figure size 432x288 with 1 Axes>"
            ]
          },
          "metadata": {
            "tags": [],
            "needs_background": "light"
          }
        }
      ]
    },
    {
      "cell_type": "code",
      "metadata": {
        "colab": {
          "base_uri": "https://localhost:8080/",
          "height": 296
        },
        "id": "or37WDHni6OT",
        "outputId": "501cbb1f-5c48-4582-a09e-ad50847d2cd2"
      },
      "source": [
        "sns.boxplot(x = featured_data.Teenhome, y = featured_data.Clean_Income)"
      ],
      "execution_count": 334,
      "outputs": [
        {
          "output_type": "execute_result",
          "data": {
            "text/plain": [
              "<matplotlib.axes._subplots.AxesSubplot at 0x7effaa179940>"
            ]
          },
          "metadata": {
            "tags": []
          },
          "execution_count": 334
        },
        {
          "output_type": "display_data",
          "data": {
            "image/png": "[encoded data removed]",
            "text/plain": [
              "<Figure size 432x288 with 1 Axes>"
            ]
          },
          "metadata": {
            "tags": [],
            "needs_background": "light"
          }
        }
      ]
    },
    {
      "cell_type": "code",
      "metadata": {
        "colab": {
          "base_uri": "https://localhost:8080/",
          "height": 322
        },
        "id": "7zU8DS1HjbJO",
        "outputId": "10f615f3-6c57-407f-c3e6-6eafbda5d19a"
      },
      "source": [
        "sns.barplot(x = featured_data.Year_Bin, y = featured_data.Teenhome, estimator=np.mean) \\\n",
        "  .set_xticklabels(c.xaxis.get_ticklabels(), rotation=60)\n",
        "plt.show()"
      ],
      "execution_count": 335,
      "outputs": [
        {
          "output_type": "display_data",
          "data": {
            "image/png": "[encoded data removed]",
            "text/plain": [
              "<Figure size 432x288 with 1 Axes>"
            ]
          },
          "metadata": {
            "tags": [],
            "needs_background": "light"
          }
        }
      ]
    },
    {
      "cell_type": "code",
      "metadata": {
        "colab": {
          "base_uri": "https://localhost:8080/",
          "height": 322
        },
        "id": "K-DXxXO5o20h",
        "outputId": "401e733d-3b45-4f84-a1d5-3135e387a15f"
      },
      "source": [
        "sns.barplot(x = featured_data.Year_Bin, y = featured_data.Kidhome, estimator=np.mean) \\\n",
        "  .set_xticklabels(c.xaxis.get_ticklabels(), rotation=60)\n",
        "plt.show()"
      ],
      "execution_count": 336,
      "outputs": [
        {
          "output_type": "display_data",
          "data": {
            "image/png": "[encoded data removed]",
            "text/plain": [
              "<Figure size 432x288 with 1 Axes>"
            ]
          },
          "metadata": {
            "tags": [],
            "needs_background": "light"
          }
        }
      ]
    },
    {
      "cell_type": "markdown",
      "metadata": {
        "id": "_7vrKMVFpelv"
      },
      "source": [
        "Joint distributions of year of birth and amount of kids and teens at home look very logical: older people have less kids and more teens and vice versa for younger customers. Other joint distributions also look good enough."
      ]
    },
    {
      "cell_type": "markdown",
      "metadata": {
        "id": "fAYstfUl-zlt"
      },
      "source": [
        "Lastly, let's check that the binary varaibles (AcceptedCmp[1-5], Response and Complain) only contain 0's and 1's. "
      ]
    },
    {
      "cell_type": "code",
      "metadata": {
        "colab": {
          "base_uri": "https://localhost:8080/"
        },
        "id": "DcdObj0a_Gz8",
        "outputId": "71d2e28d-844e-4a93-a5c4-67b89f540594"
      },
      "source": [
        "print(featured_data.AcceptedCmp1.unique())\n",
        "print(featured_data.AcceptedCmp2.unique())\n",
        "print(featured_data.AcceptedCmp3.unique())\n",
        "print(featured_data.AcceptedCmp4.unique())\n",
        "print(featured_data.AcceptedCmp5.unique())\n",
        "print(featured_data.Response.unique())\n",
        "print(featured_data.Complain.unique())"
      ],
      "execution_count": 337,
      "outputs": [
        {
          "output_type": "stream",
          "text": [
            "[0 1]\n",
            "[0 1]\n",
            "[0 1]\n",
            "[0 1]\n",
            "[0 1]\n",
            "[1 0]\n",
            "[0 1]\n"
          ],
          "name": "stdout"
        }
      ]
    },
    {
      "cell_type": "markdown",
      "metadata": {
        "id": "A9J4qRUy_p8m"
      },
      "source": [
        "All good! As a last step, we are going to assess what we've got at the end."
      ]
    },
    {
      "cell_type": "code",
      "metadata": {
        "colab": {
          "base_uri": "https://localhost:8080/",
          "height": 244
        },
        "id": "e-Vckm6j_1E0",
        "outputId": "c3e444fe-1b3c-4eb3-8644-11ac08315a89"
      },
      "source": [
        "featured_data.head(5)"
      ],
      "execution_count": 338,
      "outputs": [
        {
          "output_type": "execute_result",
          "data": {
            "text/html": [
              "<div>\n",
              "<style scoped>\n",
              "    .dataframe tbody tr th:only-of-type {\n",
              "        vertical-align: middle;\n",
              "    }\n",
              "\n",
              "    .dataframe tbody tr th {\n",
              "        vertical-align: top;\n",
              "    }\n",
              "\n",
              "    .dataframe thead th {\n",
              "        text-align: right;\n",
              "    }\n",
              "</style>\n",
              "<table border=\"1\" class=\"dataframe\">\n",
              "  <thead>\n",
              "    <tr style=\"text-align: right;\">\n",
              "      <th></th>\n",
              "      <th>ID</th>\n",
              "      <th>Year_Birth</th>\n",
              "      <th>Income</th>\n",
              "      <th>Kidhome</th>\n",
              "      <th>Teenhome</th>\n",
              "      <th>Dt_Customer</th>\n",
              "      <th>Recency</th>\n",
              "      <th>MntWines</th>\n",
              "      <th>MntFruits</th>\n",
              "      <th>MntMeatProducts</th>\n",
              "      <th>MntFishProducts</th>\n",
              "      <th>MntSweetProducts</th>\n",
              "      <th>MntGoldProds</th>\n",
              "      <th>NumDealsPurchases</th>\n",
              "      <th>NumWebPurchases</th>\n",
              "      <th>NumCatalogPurchases</th>\n",
              "      <th>NumStorePurchases</th>\n",
              "      <th>NumWebVisitsMonth</th>\n",
              "      <th>AcceptedCmp3</th>\n",
              "      <th>AcceptedCmp4</th>\n",
              "      <th>AcceptedCmp5</th>\n",
              "      <th>AcceptedCmp1</th>\n",
              "      <th>AcceptedCmp2</th>\n",
              "      <th>Response</th>\n",
              "      <th>Complain</th>\n",
              "      <th>Clean_Income</th>\n",
              "      <th>Year_Bin</th>\n",
              "      <th>Dt_Customer_Year</th>\n",
              "      <th>Dt_Customer_Month</th>\n",
              "      <th>Dt_Customer_Day</th>\n",
              "      <th>Dt_Customer_DayOfWeek</th>\n",
              "      <th>Education_2n Cycle</th>\n",
              "      <th>Education_Basic</th>\n",
              "      <th>Education_Graduation</th>\n",
              "      <th>Education_Master</th>\n",
              "      <th>Education_PhD</th>\n",
              "      <th>Marital_Status_Absurd</th>\n",
              "      <th>Marital_Status_Alone</th>\n",
              "      <th>Marital_Status_Divorced</th>\n",
              "      <th>Marital_Status_Married</th>\n",
              "      <th>Marital_Status_Single</th>\n",
              "      <th>Marital_Status_Together</th>\n",
              "      <th>Marital_Status_Widow</th>\n",
              "      <th>Marital_Status_YOLO</th>\n",
              "      <th>Country_AUS</th>\n",
              "      <th>Country_CA</th>\n",
              "      <th>Country_GER</th>\n",
              "      <th>Country_IND</th>\n",
              "      <th>Country_ME</th>\n",
              "      <th>Country_SA</th>\n",
              "      <th>Country_SP</th>\n",
              "      <th>Country_US</th>\n",
              "    </tr>\n",
              "  </thead>\n",
              "  <tbody>\n",
              "    <tr>\n",
              "      <th>0</th>\n",
              "      <td>1826</td>\n",
              "      <td>1970</td>\n",
              "      <td>$84,835.00</td>\n",
              "      <td>0</td>\n",
              "      <td>0</td>\n",
              "      <td>2014-06-16</td>\n",
              "      <td>0</td>\n",
              "      <td>189</td>\n",
              "      <td>104</td>\n",
              "      <td>379</td>\n",
              "      <td>111</td>\n",
              "      <td>189</td>\n",
              "      <td>218</td>\n",
              "      <td>1</td>\n",
              "      <td>4</td>\n",
              "      <td>4</td>\n",
              "      <td>6</td>\n",
              "      <td>1</td>\n",
              "      <td>0</td>\n",
              "      <td>0</td>\n",
              "      <td>0</td>\n",
              "      <td>0</td>\n",
              "      <td>0</td>\n",
              "      <td>1</td>\n",
              "      <td>0</td>\n",
              "      <td>84835.0</td>\n",
              "      <td>1965-1970</td>\n",
              "      <td>2014</td>\n",
              "      <td>6</td>\n",
              "      <td>16</td>\n",
              "      <td>0</td>\n",
              "      <td>0</td>\n",
              "      <td>0</td>\n",
              "      <td>1</td>\n",
              "      <td>0</td>\n",
              "      <td>0</td>\n",
              "      <td>0</td>\n",
              "      <td>0</td>\n",
              "      <td>1</td>\n",
              "      <td>0</td>\n",
              "      <td>0</td>\n",
              "      <td>0</td>\n",
              "      <td>0</td>\n",
              "      <td>0</td>\n",
              "      <td>0</td>\n",
              "      <td>0</td>\n",
              "      <td>0</td>\n",
              "      <td>0</td>\n",
              "      <td>0</td>\n",
              "      <td>0</td>\n",
              "      <td>1</td>\n",
              "      <td>0</td>\n",
              "    </tr>\n",
              "    <tr>\n",
              "      <th>1</th>\n",
              "      <td>1</td>\n",
              "      <td>1961</td>\n",
              "      <td>$57,091.00</td>\n",
              "      <td>0</td>\n",
              "      <td>0</td>\n",
              "      <td>2014-06-15</td>\n",
              "      <td>0</td>\n",
              "      <td>464</td>\n",
              "      <td>5</td>\n",
              "      <td>64</td>\n",
              "      <td>7</td>\n",
              "      <td>0</td>\n",
              "      <td>37</td>\n",
              "      <td>1</td>\n",
              "      <td>7</td>\n",
              "      <td>3</td>\n",
              "      <td>7</td>\n",
              "      <td>5</td>\n",
              "      <td>0</td>\n",
              "      <td>0</td>\n",
              "      <td>0</td>\n",
              "      <td>0</td>\n",
              "      <td>1</td>\n",
              "      <td>1</td>\n",
              "      <td>0</td>\n",
              "      <td>57091.0</td>\n",
              "      <td>1960-1965</td>\n",
              "      <td>2014</td>\n",
              "      <td>6</td>\n",
              "      <td>15</td>\n",
              "      <td>6</td>\n",
              "      <td>0</td>\n",
              "      <td>0</td>\n",
              "      <td>1</td>\n",
              "      <td>0</td>\n",
              "      <td>0</td>\n",
              "      <td>0</td>\n",
              "      <td>0</td>\n",
              "      <td>0</td>\n",
              "      <td>0</td>\n",
              "      <td>1</td>\n",
              "      <td>0</td>\n",
              "      <td>0</td>\n",
              "      <td>0</td>\n",
              "      <td>0</td>\n",
              "      <td>1</td>\n",
              "      <td>0</td>\n",
              "      <td>0</td>\n",
              "      <td>0</td>\n",
              "      <td>0</td>\n",
              "      <td>0</td>\n",
              "      <td>0</td>\n",
              "    </tr>\n",
              "    <tr>\n",
              "      <th>2</th>\n",
              "      <td>10476</td>\n",
              "      <td>1958</td>\n",
              "      <td>$67,267.00</td>\n",
              "      <td>0</td>\n",
              "      <td>1</td>\n",
              "      <td>2014-05-13</td>\n",
              "      <td>0</td>\n",
              "      <td>134</td>\n",
              "      <td>11</td>\n",
              "      <td>59</td>\n",
              "      <td>15</td>\n",
              "      <td>2</td>\n",
              "      <td>30</td>\n",
              "      <td>1</td>\n",
              "      <td>3</td>\n",
              "      <td>2</td>\n",
              "      <td>5</td>\n",
              "      <td>2</td>\n",
              "      <td>0</td>\n",
              "      <td>0</td>\n",
              "      <td>0</td>\n",
              "      <td>0</td>\n",
              "      <td>0</td>\n",
              "      <td>0</td>\n",
              "      <td>0</td>\n",
              "      <td>67267.0</td>\n",
              "      <td>1955-1960</td>\n",
              "      <td>2014</td>\n",
              "      <td>5</td>\n",
              "      <td>13</td>\n",
              "      <td>1</td>\n",
              "      <td>0</td>\n",
              "      <td>0</td>\n",
              "      <td>1</td>\n",
              "      <td>0</td>\n",
              "      <td>0</td>\n",
              "      <td>0</td>\n",
              "      <td>0</td>\n",
              "      <td>0</td>\n",
              "      <td>1</td>\n",
              "      <td>0</td>\n",
              "      <td>0</td>\n",
              "      <td>0</td>\n",
              "      <td>0</td>\n",
              "      <td>0</td>\n",
              "      <td>0</td>\n",
              "      <td>0</td>\n",
              "      <td>0</td>\n",
              "      <td>0</td>\n",
              "      <td>0</td>\n",
              "      <td>0</td>\n",
              "      <td>1</td>\n",
              "    </tr>\n",
              "    <tr>\n",
              "      <th>3</th>\n",
              "      <td>1386</td>\n",
              "      <td>1967</td>\n",
              "      <td>$32,474.00</td>\n",
              "      <td>1</td>\n",
              "      <td>1</td>\n",
              "      <td>2014-05-11</td>\n",
              "      <td>0</td>\n",
              "      <td>10</td>\n",
              "      <td>0</td>\n",
              "      <td>1</td>\n",
              "      <td>0</td>\n",
              "      <td>0</td>\n",
              "      <td>0</td>\n",
              "      <td>1</td>\n",
              "      <td>1</td>\n",
              "      <td>0</td>\n",
              "      <td>2</td>\n",
              "      <td>7</td>\n",
              "      <td>0</td>\n",
              "      <td>0</td>\n",
              "      <td>0</td>\n",
              "      <td>0</td>\n",
              "      <td>0</td>\n",
              "      <td>0</td>\n",
              "      <td>0</td>\n",
              "      <td>32474.0</td>\n",
              "      <td>1965-1970</td>\n",
              "      <td>2014</td>\n",
              "      <td>5</td>\n",
              "      <td>11</td>\n",
              "      <td>6</td>\n",
              "      <td>0</td>\n",
              "      <td>0</td>\n",
              "      <td>1</td>\n",
              "      <td>0</td>\n",
              "      <td>0</td>\n",
              "      <td>0</td>\n",
              "      <td>0</td>\n",
              "      <td>0</td>\n",
              "      <td>0</td>\n",
              "      <td>0</td>\n",
              "      <td>1</td>\n",
              "      <td>0</td>\n",
              "      <td>0</td>\n",
              "      <td>1</td>\n",
              "      <td>0</td>\n",
              "      <td>0</td>\n",
              "      <td>0</td>\n",
              "      <td>0</td>\n",
              "      <td>0</td>\n",
              "      <td>0</td>\n",
              "      <td>0</td>\n",
              "    </tr>\n",
              "    <tr>\n",
              "      <th>4</th>\n",
              "      <td>5371</td>\n",
              "      <td>1989</td>\n",
              "      <td>$21,474.00</td>\n",
              "      <td>1</td>\n",
              "      <td>0</td>\n",
              "      <td>2014-04-08</td>\n",
              "      <td>0</td>\n",
              "      <td>6</td>\n",
              "      <td>16</td>\n",
              "      <td>24</td>\n",
              "      <td>11</td>\n",
              "      <td>0</td>\n",
              "      <td>34</td>\n",
              "      <td>2</td>\n",
              "      <td>3</td>\n",
              "      <td>1</td>\n",
              "      <td>2</td>\n",
              "      <td>7</td>\n",
              "      <td>1</td>\n",
              "      <td>0</td>\n",
              "      <td>0</td>\n",
              "      <td>0</td>\n",
              "      <td>0</td>\n",
              "      <td>1</td>\n",
              "      <td>0</td>\n",
              "      <td>21474.0</td>\n",
              "      <td>1985-1990</td>\n",
              "      <td>2014</td>\n",
              "      <td>4</td>\n",
              "      <td>8</td>\n",
              "      <td>1</td>\n",
              "      <td>0</td>\n",
              "      <td>0</td>\n",
              "      <td>1</td>\n",
              "      <td>0</td>\n",
              "      <td>0</td>\n",
              "      <td>0</td>\n",
              "      <td>0</td>\n",
              "      <td>0</td>\n",
              "      <td>0</td>\n",
              "      <td>1</td>\n",
              "      <td>0</td>\n",
              "      <td>0</td>\n",
              "      <td>0</td>\n",
              "      <td>0</td>\n",
              "      <td>0</td>\n",
              "      <td>0</td>\n",
              "      <td>0</td>\n",
              "      <td>0</td>\n",
              "      <td>0</td>\n",
              "      <td>1</td>\n",
              "      <td>0</td>\n",
              "    </tr>\n",
              "  </tbody>\n",
              "</table>\n",
              "</div>"
            ],
            "text/plain": [
              "      ID  Year_Birth       Income  ...  Country_SA  Country_SP Country_US\n",
              "0   1826        1970  $84,835.00   ...           0           1          0\n",
              "1      1        1961  $57,091.00   ...           0           0          0\n",
              "2  10476        1958  $67,267.00   ...           0           0          1\n",
              "3   1386        1967  $32,474.00   ...           0           0          0\n",
              "4   5371        1989  $21,474.00   ...           0           1          0\n",
              "\n",
              "[5 rows x 52 columns]"
            ]
          },
          "metadata": {
            "tags": []
          },
          "execution_count": 338
        }
      ]
    }
  ]
}